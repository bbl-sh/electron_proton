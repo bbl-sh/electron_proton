{
 "cells": [
  {
   "cell_type": "code",
   "execution_count": 1,
   "id": "0ff0ccff",
   "metadata": {},
   "outputs": [],
   "source": [
    "#dependency package for this notebook\n",
    "# !pip install h5py\n",
    "# !pip install torchinfo"
   ]
  },
  {
   "cell_type": "code",
   "execution_count": 4,
   "id": "402c629a",
   "metadata": {},
   "outputs": [
    {
     "name": "stdout",
     "output_type": "stream",
     "text": [
      "2.0.1\n"
     ]
    }
   ],
   "source": [
    "import os\n",
    "import torch\n",
    "import torchvision\n",
    "import torch.nn as nn\n",
    "import numpy as np\n",
    "import torch.nn.functional as F\n",
    "from torchvision.datasets.utils import download_url\n",
    "from torchvision.datasets import ImageFolder\n",
    "from torch.utils.data import DataLoader, random_split, TensorDataset, Dataset\n",
    "from torchvision.utils import make_grid\n",
    "import matplotlib\n",
    "import matplotlib.pyplot as plt\n",
    "from torchvision.transforms import ToTensor\n",
    "from torchvision import datasets, transforms, models\n",
    "%matplotlib inline\n",
    "import h5py\n",
    "from torchinfo import summary\n",
    "import tarfile\n",
    "print(torch.__version__)"
   ]
  },
  {
   "cell_type": "code",
   "execution_count": 3,
   "id": "63f2d311",
   "metadata": {},
   "outputs": [],
   "source": [
    "# proton_url = \"https://cernbox.cern.ch/remote.php/dav/public-files/AtBT8y4MiQYFcgc/SinglePhotonPt50_IMGCROPS_n249k_RHv1.hdf5\"\n",
    "# download_url(proton_url, \"./data/proton_data\")"
   ]
  },
  {
   "cell_type": "code",
   "execution_count": 4,
   "id": "b1e38946",
   "metadata": {},
   "outputs": [],
   "source": [
    "# electron_url = \"https://cernbox.cern.ch/remote.php/dav/public-files/FbXw3V4XNyYB3oA/SingleElectronPt50_IMGCROPS_n249k_RHv1.hdf5\"\n",
    "# download_url(electron_url, \"./data/electron_data\")"
   ]
  },
  {
   "cell_type": "code",
   "execution_count": 5,
   "id": "fb4340d8",
   "metadata": {},
   "outputs": [
    {
     "data": {
      "text/plain": [
       "249000"
      ]
     },
     "execution_count": 5,
     "metadata": {},
     "output_type": "execute_result"
    }
   ],
   "source": [
    "proton_path = \"./data/proton_dataset/SinglePhotonPt50_IMGCROPS_n249k_RHv1.hdf5\"\n",
    "electron_path = \"./data/electron_dataset/SingleElectronPt50_IMGCROPS_n249k_RHv1.hdf5\"\n",
    "f = h5py.File(electron_path)\n",
    "xset = f['X']\n",
    "yset = f['y']\n",
    "len(xset)\n",
    "#f.keys()\n",
    "#dset.attrs.keys()\n",
    "#dset.attrs.values()\n",
    "#dset.attrs.items()"
   ]
  },
  {
   "cell_type": "code",
   "execution_count": 6,
   "id": "5f6ba768",
   "metadata": {},
   "outputs": [],
   "source": [
    "# %%writefile modules/custom_dataset.py\n",
    "import random\n",
    "class CombinedDataset(Dataset):  \n",
    "    def __init__(self, proton_path, electron_path):\n",
    "        self.proton_file = h5py.File(proton_path)\n",
    "        self.electron_file = h5py.File(electron_path)\n",
    "        self.proton_data = self.proton_file['X']\n",
    "        self.proton_labels = self.proton_file['y']\n",
    "        self.electron_data = self.electron_file['X']\n",
    "        self.electron_labels = self.electron_file['y']\n",
    "        self.length = len(self.proton_data) + len(self.electron_data)\n",
    "        self.transform = transforms.Compose([\n",
    "            transforms.ToTensor()  # Convert image to PyTorch tensors (CHW format)\n",
    "#             transforms.Normalize(mean=imagenet_mean, std=imagenet_std),  # Normalize using ImageNet mean and std\n",
    "#             transforms.Resize(224),  # Resize image to 224x224 (common for ResNet-18)\n",
    "#             transforms.RandomResizedCrop(224),  # Randomly crop a 224x224 region from the resized image (data augmentation)\n",
    "#             transforms.RandomHorizontalFlip(p=0.5)  # Randomly flip the image horizontally (data augmentation)\n",
    "        ])\n",
    "\n",
    "    def __len__(self):\n",
    "        return self.length\n",
    "\n",
    "    def __getitem__(self, index):\n",
    "        if index < len(self.proton_data):\n",
    "            dataset = 'proton' \n",
    "            actual_index = index\n",
    "        else:\n",
    "            dataset = 'electron'\n",
    "            actual_index = index - len(self.proton_data) \n",
    "\n",
    "        if dataset == 'proton':\n",
    "            image, label = self.proton_data[actual_index], self.proton_labels[actual_index]\n",
    "        else: \n",
    "            image, label = self.electron_data[actual_index], self.electron_labels[actual_index]\n",
    "        return image, label"
   ]
  },
  {
   "cell_type": "code",
   "execution_count": 7,
   "id": "42b83f61",
   "metadata": {
    "scrolled": true
   },
   "outputs": [
    {
     "name": "stdout",
     "output_type": "stream",
     "text": [
      "torch.Size([64, 32, 32, 2])\n"
     ]
    }
   ],
   "source": [
    "# #%%writefile modular/dataloader.py\n",
    "# #import CombinedDataset from custom_dataset\n",
    "import os\n",
    "#from modules.custom_dataset import CombinedDataset\n",
    "from torch.utils.data import DataLoader, random_split\n",
    "\n",
    "NUM_WORKERS = os.cpu_count()\n",
    "\n",
    "def create_dataloaders(\n",
    "    electron_path,\n",
    "    proton_path,\n",
    "    auto_transforms,\n",
    "    batch_size,\n",
    "    num_workers=NUM_WORKERS\n",
    "):\n",
    "    dataset = CombinedDataset(\n",
    "        proton_path=proton_path,\n",
    "        electron_path=electron_path\n",
    "    )\n",
    "\n",
    "    train_size = int(0.8 * len(dataset)) \n",
    "    test_size = len(dataset) - train_size\n",
    "    train_set, test_set = random_split(dataset, [train_size, test_size])\n",
    "\n",
    "    train_dataloader = DataLoader(\n",
    "        train_set,\n",
    "        batch_size=batch_size,\n",
    "        num_workers=NUM_WORKERS,\n",
    "        shuffle=True,\n",
    "        pin_memory=True\n",
    "    )\n",
    "    test_dataloader = DataLoader(\n",
    "        test_set,\n",
    "        batch_size=batch_size,\n",
    "        num_workers=NUM_WORKERS,\n",
    "        shuffle=False,\n",
    "        pin_memory=True\n",
    "    )\n",
    "    return train_dataloader, test_dataloader\n",
    "# weights = torchvision.models.ResNet18_Weights.DEFAULT\n",
    "\n",
    "dataset = CombinedDataset(electron_path, proton_path)\n",
    "train_dataloader = DataLoader(dataset, batch_size = 64, shuffle = True)\n",
    "for images, labels in train_dataloader:\n",
    "    print(f'{images.shape}')\n",
    "    break"
   ]
  },
  {
   "cell_type": "code",
   "execution_count": 9,
   "id": "3a0bc265",
   "metadata": {},
   "outputs": [
    {
     "data": {
      "text/plain": [
       "ResNet18_Weights.IMAGENET1K_V1"
      ]
     },
     "execution_count": 9,
     "metadata": {},
     "output_type": "execute_result"
    }
   ],
   "source": [
    "#from modular import dataloader\n",
    "weights = torchvision.models.ResNet18_Weights.DEFAULT\n",
    "weights"
   ]
  },
  {
   "cell_type": "code",
   "execution_count": null,
   "id": "3f284cc9",
   "metadata": {},
   "outputs": [],
   "source": [
    "for images, labels in train_dataloader:\n",
    "    print(images.dtype)\n",
    "    break\n",
    "    "
   ]
  },
  {
   "cell_type": "code",
   "execution_count": null,
   "id": "60fdc907",
   "metadata": {},
   "outputs": [],
   "source": [
    "model = models.resnet18(pretrained = True)\n",
    "for param in model.parameters():\n",
    "    param.requires_grad = False\n",
    "\n",
    "model.fc.requires_grad = True\n",
    "\n",
    "new_layer = nn.Sequential(\n",
    "    nn.Linear(512, 256), \n",
    "    nn.ReLU(),\n",
    "    nn.Dropout(p=0.5), \n",
    "    nn.Linear(256, 2),  \n",
    "    nn.BatchNorm1d(2) \n",
    ")\n",
    "model.fc = new_layer\n",
    "summary(model = model, \n",
    "        input_size=(32, 3, 224, 224),\n",
    "        col_names=[\"input_size\", \"output_size\", \"trainable\"],\n",
    "        #col_names=[\"input_size\", \"output_size\", \"num_params\", \"trainable\"],\n",
    "        col_width=20,\n",
    "        row_settings=[\"var_names\"]\n",
    "       )\n",
    "\n",
    "#loss_fn = nn.CrossEntropyLoss()\n",
    "#optimizer = optim.Adam(model.parameters(), lr = 0.001)"
   ]
  },
  {
   "cell_type": "code",
   "execution_count": null,
   "id": "a0e0525c",
   "metadata": {},
   "outputs": [],
   "source": []
  }
 ],
 "metadata": {
  "kernelspec": {
   "display_name": "Python 3 (ipykernel)",
   "language": "python",
   "name": "python3"
  },
  "language_info": {
   "codemirror_mode": {
    "name": "ipython",
    "version": 3
   },
   "file_extension": ".py",
   "mimetype": "text/x-python",
   "name": "python",
   "nbconvert_exporter": "python",
   "pygments_lexer": "ipython3",
   "version": "3.11.7"
  }
 },
 "nbformat": 4,
 "nbformat_minor": 5
}
