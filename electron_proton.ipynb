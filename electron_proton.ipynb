{
 "cells": [
  {
   "cell_type": "code",
   "execution_count": null,
   "id": "5b49fcb6-4f48-4eab-8acf-b803c962fa96",
   "metadata": {},
   "outputs": [],
   "source": [
    "import os\n",
    "import torch\n",
    "import torchvision\n",
    "import torch.nn as nn\n",
    "import numpy as np\n",
    "import torch.nn.functional as F\n",
    "from torchvision.datasets.utils import download_url\n",
    "from torchvision.datasets import ImageFolder\n",
    "from torch.utils.data import DataLoader, random_split, TensorDataset, Dataset\n",
    "from torchvision.utils import make_grid\n",
    "import matplotlib\n",
    "import matplotlib.pyplot as plt\n",
    "from torchvision.transforms import ToTensor\n",
    "from torchvision import datasets, transforms, models\n",
    "%matplotlib inline\n",
    "import h5py\n",
    "from torchinfo import summary\n",
    "import tarfile\n",
    "import h5py\n",
    "import torchinfo\n",
    "print(torch.__version__)"
   ]
  },
  {
   "cell_type": "code",
   "execution_count": null,
   "id": "aeab2fcf-205f-49d2-aa75-b59ab76c9b2d",
   "metadata": {},
   "outputs": [],
   "source": [
    "#Download the data\n",
    "# electron_url = \"https://cernbox.cern.ch/remote.php/dav/public-files/FbXw3V4XNyYB3oA/SingleElectronPt50_IMGCROPS_n249k_RHv1.hdf5\"\n",
    "# download_url(electron_url, \"./data/electron_data\")\n",
    "# proton_url = \"https://cernbox.cern.ch/remote.php/dav/public-files/AtBT8y4MiQYFcgc/SinglePhotonPt50_IMGCROPS_n249k_RHv1.hdf5\"\n",
    "# download_url(proton_url, \"./data/proton_data\")\n",
    "proton_path = \"./data/proton_data/SinglePhotonPt50_IMGCROPS_n249k_RHv1.hdf5\"\n",
    "electron_path = \"./data/electron_data/SingleElectronPt50_IMGCROPS_n249k_RHv1.hdf5\"\n",
    "f = h5py.File(electron_path)\n",
    "xset = f['X']\n",
    "yset = f['y']\n",
    "len(xset)\n",
    "#f.keys()()\n",
    "#dset.attrs.keys()\n",
    "#dset.attrs.values()\n",
    "#dset.attrs.items()"
   ]
  },
  {
   "cell_type": "code",
   "execution_count": null,
   "id": "6b4309ea-47f0-4d90-9b38-01562a17c807",
   "metadata": {},
   "outputs": [],
   "source": [
    "#Create dataset and dataloaders(data_setup.py)\n",
    "\n",
    "# %%writefile modular/data_setup.py\n",
    "\n",
    "class CombinedDataset(Dataset):\n",
    "    def __init__(self, proton_path, electron_path):\n",
    "\n",
    "    def __len__(self):\n",
    "\n",
    "    def __getitem__(self, index):\n",
    "        "
   ]
  },
  {
   "cell_type": "code",
   "execution_count": null,
   "id": "63f057e0-1636-42ac-88b5-d304a03802c8",
   "metadata": {},
   "outputs": [],
   "source": [
    "#Make model(model.py)\n",
    "\n",
    "# %%writefile modular/model.py\n",
    "\n"
   ]
  },
  {
   "cell_type": "code",
   "execution_count": null,
   "id": "a65a6bca-96a8-47cd-8e15-630d0c6ba4f4",
   "metadata": {},
   "outputs": [],
   "source": [
    "#Create train and test functions(train_test.py)\n",
    "\n",
    "# %%writefile modular/train_test.py"
   ]
  },
  {
   "cell_type": "code",
   "execution_count": null,
   "id": "9abe7ac1-b7d1-4f02-b748-4377b66c1fdb",
   "metadata": {},
   "outputs": [],
   "source": [
    "#Create function to save the parameters(utils.py)\n",
    "\n",
    "# %%writefile modular/utils.py"
   ]
  },
  {
   "cell_type": "code",
   "execution_count": null,
   "id": "8b763c86-0298-4d03-a9d2-dd398f46d02b",
   "metadata": {},
   "outputs": [],
   "source": [
    "#Train Test and Evaluate the model(main.py)\n",
    "\n",
    "# %%writefile modular/main.py"
   ]
  }
 ],
 "metadata": {
  "kernelspec": {
   "display_name": "Python 3 (ipykernel)",
   "language": "python",
   "name": "python3"
  },
  "language_info": {
   "codemirror_mode": {
    "name": "ipython",
    "version": 3
   },
   "file_extension": ".py",
   "mimetype": "text/x-python",
   "name": "python",
   "nbconvert_exporter": "python",
   "pygments_lexer": "ipython3",
   "version": "3.12.2"
  }
 },
 "nbformat": 4,
 "nbformat_minor": 5
}
