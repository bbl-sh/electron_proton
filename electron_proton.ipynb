{
 "cells": [
  {
   "cell_type": "code",
   "execution_count": 2,
   "id": "5b49fcb6-4f48-4eab-8acf-b803c962fa96",
   "metadata": {},
   "outputs": [
    {
     "name": "stdout",
     "output_type": "stream",
     "text": [
      "2.2.1+rocm5.7\n"
     ]
    }
   ],
   "source": [
    "import os\n",
    "import torch\n",
    "import torchvision\n",
    "import torch.nn as nn\n",
    "import numpy as np\n",
    "import torch.nn.functional as F\n",
    "from torchvision.datasets.utils import download_url\n",
    "from torchvision.datasets import ImageFolder\n",
    "from torch.utils.data import DataLoader, random_split, TensorDataset, Dataset\n",
    "from torchvision.utils import make_grid\n",
    "import matplotlib\n",
    "import matplotlib.pyplot as plt\n",
    "from torchvision.transforms import ToTensor\n",
    "from torchvision import datasets, transforms, models\n",
    "%matplotlib inline\n",
    "import h5py\n",
    "from torchinfo import summary\n",
    "import tarfile\n",
    "import h5py\n",
    "import torchinfo\n",
    "print(torch.__version__)"
   ]
  },
  {
   "cell_type": "code",
   "execution_count": 3,
   "id": "aeab2fcf-205f-49d2-aa75-b59ab76c9b2d",
   "metadata": {},
   "outputs": [
    {
     "data": {
      "text/plain": [
       "'cpu'"
      ]
     },
     "execution_count": 3,
     "metadata": {},
     "output_type": "execute_result"
    }
   ],
   "source": [
    "#Download the data\n",
    "# electron_url = \"https://cernbox.cern.ch/remote.php/dav/public-files/FbXw3V4XNyYB3oA/SingleElectronPt50_IMGCROPS_n249k_RHv1.hdf5\"\n",
    "# download_url(electron_url, \"./data/electron_data\")\n",
    "# proton_url = \"https://cernbox.cern.ch/remote.php/dav/public-files/AtBT8y4MiQYFcgc/SinglePhotonPt50_IMGCROPS_n249k_RHv1.hdf5\"\n",
    "# download_url(proton_url, \"./data/proton_data\")\n",
    "proton_path = \"./data/proton_data/SinglePhotonPt50_IMGCROPS_n249k_RHv1.hdf5\"\n",
    "electron_path = \"./data/electron_data/SingleElectronPt50_IMGCROPS_n249k_RHv1.hdf5\"\n",
    "f = h5py.File(electron_path)\n",
    "xset = f['X']\n",
    "yset = f['y']\n",
    "len(xset)\n",
    "#f.keys()()\n",
    "#dset.attrs.keys()\n",
    "#dset.attrs.values()\n",
    "#dset.attrs.items()\n",
    "device = \"cpu\" if torch.cuda.is_available() else \"cpu\"\n",
    "device"
   ]
  },
  {
   "cell_type": "code",
   "execution_count": 4,
   "id": "6b4309ea-47f0-4d90-9b38-01562a17c807",
   "metadata": {},
   "outputs": [
    {
     "ename": "IndentationError",
     "evalue": "expected an indented block after function definition on line 6 (263255366.py, line 8)",
     "output_type": "error",
     "traceback": [
      "\u001b[0;36m  Cell \u001b[0;32mIn[4], line 8\u001b[0;36m\u001b[0m\n\u001b[0;31m    def __len__(self):\u001b[0m\n\u001b[0m    ^\u001b[0m\n\u001b[0;31mIndentationError\u001b[0m\u001b[0;31m:\u001b[0m expected an indented block after function definition on line 6\n"
     ]
    }
   ],
   "source": [
    "#Create dataset and dataloaders(data_setup.py)\n",
    "\n",
    "# %%writefile modular/data_setup.py\n",
    "\n",
    "class CombinedDataset(Dataset):\n",
    "    def __init__(self, proton_path, electron_path):\n",
    "\n",
    "    def __len__(self):\n",
    "\n",
    "    def __getitem__(self, index):\n",
    "\n",
    "\n",
    "train_loader = DataLoader()\n",
    "test_loader = Dataloader()"
   ]
  },
  {
   "cell_type": "code",
   "execution_count": null,
   "id": "63f057e0-1636-42ac-88b5-d304a03802c8",
   "metadata": {},
   "outputs": [],
   "source": [
    "weights = torchvision.models.ResNet18_Weights.DEFAULT \n",
    "model = torchvision.models.resnet18(weights = weights)\n",
    "weights\n",
    "for param in model.parameters():\n",
    "    param.requires_grad = False\n",
    "summary(model = model, \n",
    "        input_size=(32, 3, 224, 224),\n",
    "        col_names=[\"input_size\", \"output_size\", \"trainable\"],\n",
    "        #col_names=[\"input_size\", \"output_size\", \"num_params\", \"trainable\"],\n",
    "        col_width=20,\n",
    "        row_settings=[\"var_names\"]\n",
    "       )"
   ]
  },
  {
   "cell_type": "code",
   "execution_count": 5,
   "id": "cc9120b5-4bd2-4dc3-9251-ea2f831b9309",
   "metadata": {},
   "outputs": [
    {
     "name": "stdout",
     "output_type": "stream",
     "text": [
      "0.17.1+rocm5.7\n"
     ]
    }
   ],
   "source": [
    "print(torchvision.__version__)"
   ]
  },
  {
   "cell_type": "code",
   "execution_count": null,
   "id": "a65a6bca-96a8-47cd-8e15-630d0c6ba4f4",
   "metadata": {},
   "outputs": [],
   "source": [
    "#Create train and test functions(train_test.py)\n",
    "\n",
    "# %%writefile modular/train_test.py"
   ]
  },
  {
   "cell_type": "code",
   "execution_count": null,
   "id": "9abe7ac1-b7d1-4f02-b748-4377b66c1fdb",
   "metadata": {},
   "outputs": [],
   "source": [
    "#Create function to save the parameters(utils.py)\n",
    "\n",
    "# %%writefile modular/utils.py"
   ]
  },
  {
   "cell_type": "code",
   "execution_count": null,
   "id": "8b763c86-0298-4d03-a9d2-dd398f46d02b",
   "metadata": {},
   "outputs": [],
   "source": [
    "#Train Test and Evaluate the model(main.py)\n",
    "\n",
    "# %%writefile modular/main.py"
   ]
  }
 ],
 "metadata": {
  "kernelspec": {
   "display_name": "Python 3 (ipykernel)",
   "language": "python",
   "name": "python3"
  },
  "language_info": {
   "codemirror_mode": {
    "name": "ipython",
    "version": 3
   },
   "file_extension": ".py",
   "mimetype": "text/x-python",
   "name": "python",
   "nbconvert_exporter": "python",
   "pygments_lexer": "ipython3",
   "version": "3.12.2"
  }
 },
 "nbformat": 4,
 "nbformat_minor": 5
}
